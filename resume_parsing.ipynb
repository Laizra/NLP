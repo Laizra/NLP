{
 "cells": [
  {
   "cell_type": "code",
   "execution_count": 33,
   "metadata": {},
   "outputs": [],
   "source": [
    "import spacy\n",
    "import pdfminer\n",
    "import re\n",
    "import os\n",
    "import pandas as pd"
   ]
  },
  {
   "cell_type": "code",
   "execution_count": 34,
   "metadata": {},
   "outputs": [],
   "source": [
    "import pdff2txt"
   ]
  },
  {
   "cell_type": "code",
   "execution_count": 35,
   "metadata": {},
   "outputs": [],
   "source": [
    "# converting pdf to txt, \n",
    "def convert_pdf(f):\n",
    "  output_filename = os.path.basename(os.path.splitext(f)[0]) + \".txt\"\n",
    "  output_filepath = os.path.join(\"output/txt/\", output_filename)\n",
    "  pdff2txt.main(args=[f, \"--outfile\", output_filepath])\n",
    "  print(output_filepath + \" saved successfully!!!\")\n",
    "  return open(output_filepath).read()"
   ]
  },
  {
   "cell_type": "code",
   "execution_count": 36,
   "metadata": {},
   "outputs": [],
   "source": [
    "# load the language model\n",
    "nlp = spacy.load(\"en_core_web_sm\")"
   ]
  },
  {
   "cell_type": "code",
   "execution_count": 37,
   "metadata": {},
   "outputs": [],
   "source": [
    "result_dict = {\"name\": [], \"phone\": [], \"email\":[], \"skills\": []}\n",
    "names = []\n",
    "phones = []\n",
    "emails = []\n",
    "skills = []"
   ]
  },
  {
   "cell_type": "code",
   "execution_count": 38,
   "metadata": {},
   "outputs": [],
   "source": [
    "#\n",
    "def parse_content(text):\n",
    "  skillset = re.compile(\"python|java|sql|hadoop|tableu\")\n",
    "  phone_num = re.compile(\n",
    "    \"(\\d{3}[-\\.\\s]??\\d{3}[-\\.\\s]??\\d{4}|\\(\\d{3}\\)\\s*\\d{3}[-\\.\\s]??\\d{4}|\\d{3}[-\\.\\s]??\\d{4})\"\n",
    "  )\n",
    "  doc = nlp(text)\n",
    "  name = [entity.text for entity in doc.ents if entity.label_ == \"PERSON\"][0]\n",
    "  print(name)\n",
    "  email = [word for word in doc if word.like_email == True][0]\n",
    "  print(email)\n",
    "  phone = str(re.findall(phone_num, text.lower()))\n",
    "  skills_list = re.findall(skillset, text.lower())\n",
    "  unique_skills_list = str(set(skills_list))\n",
    "  names.append(name)\n",
    "  emails.append(email)\n",
    "  phones.append(phone)\n",
    "  skills.append(unique_skills_list)\n",
    "  print(\"Extraction completed succesfully!!!\")"
   ]
  },
  {
   "cell_type": "code",
   "execution_count": 39,
   "metadata": {},
   "outputs": [
    {
     "name": "stdout",
     "output_type": "stream",
     "text": [
      "output/txt/Alisson ParkerCV.txt saved successfully!!!\n",
      "\n",
      "Reading...Alisson ParkerCV.pdf\n",
      "Alisson Parker-Wright                                                                                                 \n",
      "alli1414parks@mail.com\n",
      "Extraction completed succesfully!!!\n",
      "output/txt/AshleyMilesCV.txt saved successfully!!!\n",
      "\n",
      "Reading...AshleyMilesCV.pdf\n",
      "Ashley Miles\n",
      "ashleymiles@memail.com\n",
      "Extraction completed succesfully!!!\n",
      "output/txt/John DominicCV.txt saved successfully!!!\n",
      "\n",
      "Reading...John DominicCV.pdf\n",
      "John Dominic\n",
      "johndominic@mail.com\n",
      "Extraction completed succesfully!!!\n"
     ]
    }
   ],
   "source": [
    "for file in os.listdir(\"resumes/\"):\n",
    "  if file.endswith(\"pdf\"):\n",
    "    txt = convert_pdf(os.path.join(\"resumes/\", file))\n",
    "    print(\"\\nReading...\" + file)\n",
    "    parse_content(txt)"
   ]
  },
  {
   "cell_type": "code",
   "execution_count": 40,
   "metadata": {},
   "outputs": [],
   "source": [
    "result_dict[\"name\"] = names\n",
    "result_dict[\"phone\"] = phones\n",
    "result_dict[\"email\"] = emails\n",
    "result_dict[\"skills\"] = skills"
   ]
  },
  {
   "cell_type": "code",
   "execution_count": 41,
   "metadata": {},
   "outputs": [
    {
     "data": {
      "text/html": [
       "<div>\n",
       "<style scoped>\n",
       "    .dataframe tbody tr th:only-of-type {\n",
       "        vertical-align: middle;\n",
       "    }\n",
       "\n",
       "    .dataframe tbody tr th {\n",
       "        vertical-align: top;\n",
       "    }\n",
       "\n",
       "    .dataframe thead th {\n",
       "        text-align: right;\n",
       "    }\n",
       "</style>\n",
       "<table border=\"1\" class=\"dataframe\">\n",
       "  <thead>\n",
       "    <tr style=\"text-align: right;\">\n",
       "      <th></th>\n",
       "      <th>name</th>\n",
       "      <th>phone</th>\n",
       "      <th>email</th>\n",
       "      <th>skills</th>\n",
       "    </tr>\n",
       "  </thead>\n",
       "  <tbody>\n",
       "    <tr>\n",
       "      <th>0</th>\n",
       "      <td>Alisson Parker-Wright                         ...</td>\n",
       "      <td>['8569878511']</td>\n",
       "      <td>alli1414parks@mail.com</td>\n",
       "      <td>{'python', 'java'}</td>\n",
       "    </tr>\n",
       "    <tr>\n",
       "      <th>1</th>\n",
       "      <td>Ashley Miles</td>\n",
       "      <td>['6592251422']</td>\n",
       "      <td>ashleymiles@memail.com</td>\n",
       "      <td>{'sql'}</td>\n",
       "    </tr>\n",
       "    <tr>\n",
       "      <th>2</th>\n",
       "      <td>John Dominic</td>\n",
       "      <td>['7877756411']</td>\n",
       "      <td>johndominic@mail.com</td>\n",
       "      <td>{'hadoop', 'python', 'java'}</td>\n",
       "    </tr>\n",
       "  </tbody>\n",
       "</table>\n",
       "</div>"
      ],
      "text/plain": [
       "                                                name           phone  \\\n",
       "0  Alisson Parker-Wright                         ...  ['8569878511']   \n",
       "1                                       Ashley Miles  ['6592251422']   \n",
       "2                                       John Dominic  ['7877756411']   \n",
       "\n",
       "                    email                        skills  \n",
       "0  alli1414parks@mail.com            {'python', 'java'}  \n",
       "1  ashleymiles@memail.com                       {'sql'}  \n",
       "2    johndominic@mail.com  {'hadoop', 'python', 'java'}  "
      ]
     },
     "execution_count": 41,
     "metadata": {},
     "output_type": "execute_result"
    }
   ],
   "source": [
    "result_df = pd.DataFrame(result_dict)\n",
    "result_df"
   ]
  },
  {
   "cell_type": "code",
   "execution_count": 43,
   "metadata": {},
   "outputs": [],
   "source": [
    "result_df.to_csv(\"output/csv/parsed_resumes.csv\")"
   ]
  },
  {
   "cell_type": "code",
   "execution_count": 44,
   "metadata": {},
   "outputs": [
    {
     "data": {
      "text/html": [
       "<div>\n",
       "<style scoped>\n",
       "    .dataframe tbody tr th:only-of-type {\n",
       "        vertical-align: middle;\n",
       "    }\n",
       "\n",
       "    .dataframe tbody tr th {\n",
       "        vertical-align: top;\n",
       "    }\n",
       "\n",
       "    .dataframe thead th {\n",
       "        text-align: right;\n",
       "    }\n",
       "</style>\n",
       "<table border=\"1\" class=\"dataframe\">\n",
       "  <thead>\n",
       "    <tr style=\"text-align: right;\">\n",
       "      <th></th>\n",
       "      <th>name</th>\n",
       "      <th>phone</th>\n",
       "      <th>email</th>\n",
       "      <th>skills</th>\n",
       "    </tr>\n",
       "  </thead>\n",
       "  <tbody>\n",
       "  </tbody>\n",
       "</table>\n",
       "</div>"
      ],
      "text/plain": [
       "Empty DataFrame\n",
       "Columns: [name, phone, email, skills]\n",
       "Index: []"
      ]
     },
     "execution_count": 44,
     "metadata": {},
     "output_type": "execute_result"
    }
   ],
   "source": [
    "result_df[result_df.skills == str(\"sql\")]"
   ]
  }
 ],
 "metadata": {
  "kernelspec": {
   "display_name": "Python 3 (ipykernel)",
   "language": "python",
   "name": "python3"
  },
  "language_info": {
   "codemirror_mode": {
    "name": "ipython",
    "version": 3
   },
   "file_extension": ".py",
   "mimetype": "text/x-python",
   "name": "python",
   "nbconvert_exporter": "python",
   "pygments_lexer": "ipython3",
   "version": "3.11.1"
  },
  "vscode": {
   "interpreter": {
    "hash": "e5c08bdb93c5c3e32b4411677c9e507c307fae6694b8371f2b7bc1176d366c20"
   }
  }
 },
 "nbformat": 4,
 "nbformat_minor": 2
}
