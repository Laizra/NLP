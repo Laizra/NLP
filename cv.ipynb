{
 "cells": [
  {
   "cell_type": "code",
   "execution_count": 21,
   "metadata": {},
   "outputs": [],
   "source": [
    "import spacy"
   ]
  },
  {
   "cell_type": "code",
   "execution_count": 22,
   "metadata": {},
   "outputs": [],
   "source": [
    "# loading language model that we've already downloaded in this venv to \"nlp\". en for english \n",
    "nlp = spacy.load('en_core_web_sm')"
   ]
  },
  {
   "cell_type": "code",
   "execution_count": 23,
   "metadata": {},
   "outputs": [],
   "source": [
    "# simple text\n",
    "text = (\"Mesoamerica, along with Mesopotamia and China, is one of three known places in the world where writing is thought to have developed independently.[1] Mesoamerican scripts deciphered to date are a combination of logographic and syllabic systems. They are often called hieroglyphs due to the iconic shapes of many of the glyphs, a pattern superficially similar to Egyptian hieroglyphs. Fifteen distinct writing systems have been identified in pre-Columbian Mesoamerica, many from a single inscription.[2] The limits of archaeological dating methods make it difficult to establish which was the earliest and hence the progenitor from which the others developed. The best documented and deciphered Mesoamerican writing system, and the most widely known, is the classic Maya script. Earlier scripts with poorer and varying levels of decipherment include the Olmec hieroglyphs, the Zapotec script, and the Isthmian script, all of which date back to the 1st millennium BC. An extensive Mesoamerican literature has been conserved, partly in indigenous scripts and partly in postconquest transcriptions in the Latin script.\")"
   ]
  },
  {
   "cell_type": "code",
   "execution_count": 24,
   "metadata": {},
   "outputs": [
    {
     "data": {
      "text/plain": [
       "'Mesoamerica, along with Mesopotamia and China, is one of three known places in the world where writing is thought to have developed independently.[1] Mesoamerican scripts deciphered to date are a combination of logographic and syllabic systems. They are often called hieroglyphs due to the iconic shapes of many of the glyphs, a pattern superficially similar to Egyptian hieroglyphs. Fifteen distinct writing systems have been identified in pre-Columbian Mesoamerica, many from a single inscription.[2] The limits of archaeological dating methods make it difficult to establish which was the earliest and hence the progenitor from which the others developed. The best documented and deciphered Mesoamerican writing system, and the most widely known, is the classic Maya script. Earlier scripts with poorer and varying levels of decipherment include the Olmec hieroglyphs, the Zapotec script, and the Isthmian script, all of which date back to the 1st millennium BC. An extensive Mesoamerican literature has been conserved, partly in indigenous scripts and partly in postconquest transcriptions in the Latin script.'"
      ]
     },
     "execution_count": 24,
     "metadata": {},
     "output_type": "execute_result"
    }
   ],
   "source": [
    "text"
   ]
  },
  {
   "cell_type": "code",
   "execution_count": 25,
   "metadata": {},
   "outputs": [],
   "source": [
    "# use language model and text, sore in variable\n",
    "doc = nlp(text)"
   ]
  },
  {
   "cell_type": "code",
   "execution_count": 26,
   "metadata": {},
   "outputs": [
    {
     "data": {
      "text/plain": [
       "Mesoamerica, along with Mesopotamia and China, is one of three known places in the world where writing is thought to have developed independently.[1] Mesoamerican scripts deciphered to date are a combination of logographic and syllabic systems. They are often called hieroglyphs due to the iconic shapes of many of the glyphs, a pattern superficially similar to Egyptian hieroglyphs. Fifteen distinct writing systems have been identified in pre-Columbian Mesoamerica, many from a single inscription.[2] The limits of archaeological dating methods make it difficult to establish which was the earliest and hence the progenitor from which the others developed. The best documented and deciphered Mesoamerican writing system, and the most widely known, is the classic Maya script. Earlier scripts with poorer and varying levels of decipherment include the Olmec hieroglyphs, the Zapotec script, and the Isthmian script, all of which date back to the 1st millennium BC. An extensive Mesoamerican literature has been conserved, partly in indigenous scripts and partly in postconquest transcriptions in the Latin script."
      ]
     },
     "execution_count": 26,
     "metadata": {},
     "output_type": "execute_result"
    }
   ],
   "source": [
    "doc"
   ]
  },
  {
   "cell_type": "code",
   "execution_count": null,
   "metadata": {},
   "outputs": [],
   "source": [
    "# prints out word by word\n",
    "for token in doc:\n",
    "  print(token)"
   ]
  },
  {
   "cell_type": "code",
   "execution_count": 31,
   "metadata": {},
   "outputs": [
    {
     "name": "stdout",
     "output_type": "stream",
     "text": [
      "known\n",
      "thought\n",
      "developed\n",
      "deciphered\n",
      "called\n",
      "identified\n",
      "dating\n",
      "make\n",
      "establish\n",
      "developed\n",
      "documented\n",
      "deciphered\n",
      "known\n",
      "varying\n",
      "include\n",
      "conserved\n"
     ]
    }
   ],
   "source": [
    "# only verb, for word in doc, if object/part of speech == verb, print object\n",
    "for token in doc:\n",
    "  if token.pos_ == \"VERB\":\n",
    "    print(token)"
   ]
  },
  {
   "cell_type": "code",
   "execution_count": 32,
   "metadata": {},
   "outputs": [
    {
     "name": "stdout",
     "output_type": "stream",
     "text": [
      "Mesopotamia GPE\n",
      "China GPE\n",
      "one CARDINAL\n",
      "three CARDINAL\n",
      "Mesoamerican NORP\n",
      "Egyptian NORP\n",
      "Fifteen CARDINAL\n",
      "Mesoamerican NORP\n",
      "Maya PERSON\n",
      "Olmec ORG\n",
      "Zapotec NORP\n",
      "Isthmian NORP\n",
      "the 1st millennium DATE\n",
      "BC ORG\n",
      "Mesoamerican NORP\n",
      "Latin NORP\n"
     ]
    }
   ],
   "source": [
    "# Named entity recognition, .ents applies named entity recognition\n",
    "for entity in doc.ents:\n",
    "  print(entity.text, entity.label_)"
   ]
  }
 ],
 "metadata": {
  "kernelspec": {
   "display_name": "tidy_venv",
   "language": "python",
   "name": "tidy_venv"
  },
  "language_info": {
   "codemirror_mode": {
    "name": "ipython",
    "version": 3
   },
   "file_extension": ".py",
   "mimetype": "text/x-python",
   "name": "python",
   "nbconvert_exporter": "python",
   "pygments_lexer": "ipython3",
   "version": "3.11.1"
  },
  "orig_nbformat": 4
 },
 "nbformat": 4,
 "nbformat_minor": 2
}
